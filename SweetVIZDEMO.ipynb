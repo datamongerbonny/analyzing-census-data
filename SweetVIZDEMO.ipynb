{
  "nbformat": 4,
  "nbformat_minor": 0,
  "metadata": {
    "colab": {
      "name": "SweetVIZDEMO.ipynb",
      "provenance": [],
      "collapsed_sections": [],
      "toc_visible": true,
      "include_colab_link": true
    },
    "kernelspec": {
      "name": "python3",
      "display_name": "Python 3"
    }
  },
  "cells": [
    {
      "cell_type": "markdown",
      "metadata": {
        "id": "view-in-github",
        "colab_type": "text"
      },
      "source": [
        "<a href=\"https://colab.research.google.com/github/datamongerbonny/analyzing-census-data/blob/master/SweetVIZDEMO.ipynb\" target=\"_parent\"><img src=\"https://colab.research.google.com/assets/colab-badge.svg\" alt=\"Open In Colab\"/></a>"
      ]
    },
    {
      "cell_type": "code",
      "metadata": {
        "id": "W7R0i5yKCjgU",
        "colab_type": "code",
        "colab": {
          "base_uri": "https://localhost:8080/",
          "height": 294
        },
        "outputId": "4f788f98-e9bf-4f52-8f0c-e6f0f5fb258d"
      },
      "source": [
        "!pip install sweetviz"
      ],
      "execution_count": null,
      "outputs": [
        {
          "output_type": "stream",
          "text": [
            "Requirement already satisfied: sweetviz in /usr/local/lib/python3.6/dist-packages (1.0b5)\n",
            "Requirement already satisfied: importlib-resources>=1.2.0 in /usr/local/lib/python3.6/dist-packages (from sweetviz) (3.0.0)\n",
            "Requirement already satisfied: numpy>=1.16.0 in /usr/local/lib/python3.6/dist-packages (from sweetviz) (1.18.5)\n",
            "Requirement already satisfied: scipy>=1.3.2 in /usr/local/lib/python3.6/dist-packages (from sweetviz) (1.4.1)\n",
            "Requirement already satisfied: pandas!=1.0.0,!=1.0.1,!=1.0.2,>=0.25.3 in /usr/local/lib/python3.6/dist-packages (from sweetviz) (1.0.5)\n",
            "Requirement already satisfied: matplotlib>=3.1.3 in /usr/local/lib/python3.6/dist-packages (from sweetviz) (3.2.2)\n",
            "Requirement already satisfied: tqdm>=4.43.0 in /usr/local/lib/python3.6/dist-packages (from sweetviz) (4.48.0)\n",
            "Requirement already satisfied: jinja2>=2.11.1 in /usr/local/lib/python3.6/dist-packages (from sweetviz) (2.11.2)\n",
            "Requirement already satisfied: zipp>=0.4; python_version < \"3.8\" in /usr/local/lib/python3.6/dist-packages (from importlib-resources>=1.2.0->sweetviz) (3.1.0)\n",
            "Requirement already satisfied: pytz>=2017.2 in /usr/local/lib/python3.6/dist-packages (from pandas!=1.0.0,!=1.0.1,!=1.0.2,>=0.25.3->sweetviz) (2018.9)\n",
            "Requirement already satisfied: python-dateutil>=2.6.1 in /usr/local/lib/python3.6/dist-packages (from pandas!=1.0.0,!=1.0.1,!=1.0.2,>=0.25.3->sweetviz) (2.8.1)\n",
            "Requirement already satisfied: cycler>=0.10 in /usr/local/lib/python3.6/dist-packages (from matplotlib>=3.1.3->sweetviz) (0.10.0)\n",
            "Requirement already satisfied: pyparsing!=2.0.4,!=2.1.2,!=2.1.6,>=2.0.1 in /usr/local/lib/python3.6/dist-packages (from matplotlib>=3.1.3->sweetviz) (2.4.7)\n",
            "Requirement already satisfied: kiwisolver>=1.0.1 in /usr/local/lib/python3.6/dist-packages (from matplotlib>=3.1.3->sweetviz) (1.2.0)\n",
            "Requirement already satisfied: MarkupSafe>=0.23 in /usr/local/lib/python3.6/dist-packages (from jinja2>=2.11.1->sweetviz) (1.1.1)\n",
            "Requirement already satisfied: six>=1.5 in /usr/local/lib/python3.6/dist-packages (from python-dateutil>=2.6.1->pandas!=1.0.0,!=1.0.1,!=1.0.2,>=0.25.3->sweetviz) (1.15.0)\n"
          ],
          "name": "stdout"
        }
      ]
    },
    {
      "cell_type": "code",
      "metadata": {
        "id": "AR4P_XS3C4bp",
        "colab_type": "code",
        "colab": {}
      },
      "source": [
        "import pandas as pd"
      ],
      "execution_count": null,
      "outputs": []
    },
    {
      "cell_type": "code",
      "metadata": {
        "id": "N6Heqk3rDBQr",
        "colab_type": "code",
        "colab": {}
      },
      "source": [
        "df = pd.read_csv('/content/compas-scores-raw.csv')"
      ],
      "execution_count": null,
      "outputs": []
    },
    {
      "cell_type": "code",
      "metadata": {
        "id": "WvjA71r3GP13",
        "colab_type": "code",
        "colab": {}
      },
      "source": [
        "df = pd.read_csv('CENSUSTESTDATA.csv')"
      ],
      "execution_count": null,
      "outputs": []
    },
    {
      "cell_type": "code",
      "metadata": {
        "id": "DuOkneGsaRQ1",
        "colab_type": "code",
        "colab": {}
      },
      "source": [
        "df = pd.read_csv('/content/nc_greensboro_2020_04_01.csv')"
      ],
      "execution_count": null,
      "outputs": []
    },
    {
      "cell_type": "code",
      "metadata": {
        "id": "ZQPN63w6ZDrH",
        "colab_type": "code",
        "colab": {}
      },
      "source": [
        "df = pd.read_csv('MEPSTFFNA.csv')"
      ],
      "execution_count": null,
      "outputs": []
    },
    {
      "cell_type": "markdown",
      "metadata": {
        "id": "Z-tcurNjxp5y",
        "colab_type": "text"
      },
      "source": [
        "# New Section"
      ]
    },
    {
      "cell_type": "code",
      "metadata": {
        "id": "1InIqJbcxvz0",
        "colab_type": "code",
        "colab": {
          "base_uri": "https://localhost:8080/",
          "height": 34
        },
        "outputId": "35af367c-a7d0-4140-f1f6-21bcf070be8f"
      },
      "source": [
        "from google.colab import drive\n",
        "drive.mount('/content/drive')"
      ],
      "execution_count": null,
      "outputs": [
        {
          "output_type": "stream",
          "text": [
            "Drive already mounted at /content/drive; to attempt to forcibly remount, call drive.mount(\"/content/drive\", force_remount=True).\n"
          ],
          "name": "stdout"
        }
      ]
    },
    {
      "cell_type": "code",
      "metadata": {
        "id": "6XwcQoh0DH5Q",
        "colab_type": "code",
        "colab": {
          "base_uri": "https://localhost:8080/",
          "height": 1000
        },
        "outputId": "93e3f160-5930-49b4-86ea-ddcf19b7e2bb"
      },
      "source": [
        "import sweetviz as sv\n",
        "df = sv.analyze(df)\n",
        "df.show_html('CENSUSTESTDATA.html')"
      ],
      "execution_count": null,
      "outputs": [
        {
          "output_type": "stream",
          "text": [
            "\n",
            "\n",
            "                                   |                         | [  0%]   00:00  -> (? left)\u001b[A\u001b[A\n",
            "\n",
            "Summarizing dataframe:             |                         | [  0%]   00:00  -> (? left)\u001b[A\u001b[A\n",
            "\n",
            "Summarizing dataframe:             |▉                    | [  4%]   00:02  -> (01:03 left)\u001b[A\u001b[A\n",
            "\n",
            ":YEAR:                             |▉                    | [  4%]   00:02  -> (01:03 left)\u001b[A\u001b[A\n",
            "\n",
            ":YEAR:                             |█▊                   | [  8%]   00:03  -> (00:44 left)\u001b[A\u001b[A\n",
            "\n",
            ":SAMPLE:                           |█▊                   | [  8%]   00:03  -> (00:44 left)\u001b[A\u001b[A\n",
            "\n",
            ":SAMPLE:                           |██▋                  | [ 12%]   00:03  -> (00:31 left)\u001b[A\u001b[A\n",
            "\n",
            ":SERIAL:                           |██▋                  | [ 12%]   00:03  -> (00:31 left)\u001b[A\u001b[A\n",
            "\n",
            ":SERIAL:                           |███▌                 | [ 17%]   00:05  -> (00:34 left)\u001b[A\u001b[A\n",
            "\n",
            ":CBSERIAL:                         |███▌                 | [ 17%]   00:05  -> (00:34 left)\u001b[A\u001b[A\n",
            "\n",
            ":CBSERIAL:                         |████▍                | [ 21%]   00:07  -> (00:35 left)\u001b[A\u001b[A\n",
            "\n",
            ":HHWT:                             |████▍                | [ 21%]   00:07  -> (00:35 left)\u001b[A\u001b[A\n",
            "\n",
            ":HHWT:                             |█████▎               | [ 25%]   00:09  -> (00:31 left)\u001b[A\u001b[A\n",
            "\n",
            ":CLUSTER:                          |█████▎               | [ 25%]   00:09  -> (00:31 left)\u001b[A\u001b[A\n",
            "\n",
            ":CLUSTER:                          |██████▏              | [ 29%]   00:11  -> (00:34 left)\u001b[A\u001b[A\n",
            "\n",
            ":STATEFIP:                         |██████▏              | [ 29%]   00:11  -> (00:34 left)\u001b[A\u001b[A\n",
            "\n",
            ":STATEFIP:                         |███████              | [ 33%]   00:13  -> (00:29 left)\u001b[A\u001b[A\n",
            "\n",
            ":COUNTYFIP:                        |███████              | [ 33%]   00:13  -> (00:29 left)\u001b[A\u001b[A\n",
            "\n",
            ":COUNTYFIP:                        |███████▉             | [ 38%]   00:14  -> (00:25 left)\u001b[A\u001b[A\n",
            "\n",
            ":STRATA:                           |███████▉             | [ 38%]   00:14  -> (00:25 left)\u001b[A\u001b[A\n",
            "\n",
            ":STRATA:                           |████████▊            | [ 42%]   00:16  -> (00:22 left)\u001b[A\u001b[A\n",
            "\n",
            ":GQ:                               |████████▊            | [ 42%]   00:16  -> (00:22 left)\u001b[A\u001b[A\n",
            "\n",
            ":GQ:                               |█████████▋           | [ 46%]   00:16  -> (00:15 left)\u001b[A\u001b[A\n",
            "\n",
            ":HHINCOME:                         |█████████▋           | [ 46%]   00:16  -> (00:15 left)\u001b[A\u001b[A\n",
            "\n",
            ":HHINCOME:                         |██████████▌          | [ 50%]   00:17  -> (00:15 left)\u001b[A\u001b[A\n",
            "\n",
            ":PERNUM:                           |██████████▌          | [ 50%]   00:17  -> (00:15 left)\u001b[A\u001b[A\n",
            "\n",
            ":PERNUM:                           |███████████▍         | [ 54%]   00:19  -> (00:14 left)\u001b[A\u001b[A\n",
            "\n",
            ":PERWT:                            |███████████▍         | [ 54%]   00:19  -> (00:14 left)\u001b[A\u001b[A\n",
            "\n",
            ":PERWT:                            |████████████▎        | [ 58%]   00:21  -> (00:15 left)\u001b[A\u001b[A\n",
            "\n",
            ":HCOVANY:                          |████████████▎        | [ 58%]   00:21  -> (00:15 left)\u001b[A\u001b[A\n",
            "\n",
            ":HCOVANY:                          |█████████████▏       | [ 62%]   00:21  -> (00:10 left)\u001b[A\u001b[A\n",
            "\n",
            ":HCOVPRIV:                         |█████████████▏       | [ 62%]   00:21  -> (00:10 left)\u001b[A\u001b[A\n",
            "\n",
            ":HCOVPRIV:                         |██████████████       | [ 67%]   00:21  -> (00:07 left)\u001b[A\u001b[A\n",
            "\n",
            ":HINSEMP:                          |██████████████       | [ 67%]   00:21  -> (00:07 left)\u001b[A\u001b[A\n",
            "\n",
            ":HINSEMP:                          |██████████████▉      | [ 71%]   00:22  -> (00:04 left)\u001b[A\u001b[A\n",
            "\n",
            ":HINSPUR:                          |██████████████▉      | [ 71%]   00:22  -> (00:04 left)\u001b[A\u001b[A\n",
            "\n",
            ":HINSPUR:                          |███████████████▊     | [ 75%]   00:22  -> (00:03 left)\u001b[A\u001b[A\n",
            "\n",
            ":HINSTRI:                          |███████████████▊     | [ 75%]   00:22  -> (00:03 left)\u001b[A\u001b[A\n",
            "\n",
            ":HINSTRI:                          |████████████████▋    | [ 79%]   00:22  -> (00:02 left)\u001b[A\u001b[A\n",
            "\n",
            ":HCOVPUB:                          |████████████████▋    | [ 79%]   00:22  -> (00:02 left)\u001b[A\u001b[A\n",
            "\n",
            ":HCOVPUB:                          |█████████████████▌   | [ 83%]   00:22  -> (00:01 left)\u001b[A\u001b[A\n",
            "\n",
            ":HINSCAID:                         |█████████████████▌   | [ 83%]   00:22  -> (00:01 left)\u001b[A\u001b[A\n",
            "\n",
            ":HINSCAID:                         |██████████████████▍  | [ 88%]   00:23  -> (00:01 left)\u001b[A\u001b[A\n",
            "\n",
            ":HINSCARE:                         |██████████████████▍  | [ 88%]   00:23  -> (00:01 left)\u001b[A\u001b[A\n",
            "\n",
            ":HINSCARE:                         |███████████████████▎ | [ 92%]   00:23  -> (00:00 left)\u001b[A\u001b[A\n",
            "\n",
            ":HINSVA:                           |███████████████████▎ | [ 92%]   00:23  -> (00:00 left)\u001b[A\u001b[A\n",
            "\n",
            ":HINSVA:                           |████████████████████▏| [ 96%]   00:23  -> (00:00 left)\u001b[A\u001b[A\n",
            "\n",
            ":HINSIHS:                          |████████████████████▏| [ 96%]   00:23  -> (00:00 left)\u001b[A\u001b[A\n",
            "\n",
            ":HINSIHS:                          |█████████████████████| [100%]   00:24  -> (00:00 left)\u001b[A\u001b[A\n",
            "\n",
            ":FEATURES DONE:                    |█████████████████████| [100%]   00:24  -> (00:00 left)\n",
            "\n",
            "\n",
            "                                   |                         | [  0%]   00:00  -> (? left)\u001b[A\u001b[A\n",
            "\n",
            ":Processing Pairwise Features:     |                         | [  0%]   00:00  -> (? left)\u001b[A\u001b[A\n",
            "\n",
            ":Processing Pairwise Features:     |▉                    | [  4%]   00:50  -> (18:26 left)\u001b[A\u001b[A\n",
            "\n",
            ":Processing Pairwise Features:     |█▊                   | [  9%]   01:40  -> (17:34 left)\u001b[A\u001b[A\n",
            "\n",
            ":Processing Pairwise Features:     |██▋                  | [ 13%]   01:40  -> (11:46 left)\u001b[A\u001b[A\n",
            "\n",
            ":Processing Pairwise Features:     |███▋                 | [ 17%]   01:41  -> (07:53 left)\u001b[A\u001b[A\n",
            "\n",
            ":Processing Pairwise Features:     |████▌                | [ 22%]   01:42  -> (05:17 left)\u001b[A\u001b[A\n",
            "\n",
            ":Processing Pairwise Features:     |█████▍               | [ 26%]   01:42  -> (03:32 left)\u001b[A\u001b[A\n",
            "\n",
            ":Processing Pairwise Features:     |██████▍              | [ 30%]   01:43  -> (02:22 left)\u001b[A\u001b[A\n",
            "\n",
            ":Processing Pairwise Features:     |███████▎             | [ 35%]   01:43  -> (01:36 left)\u001b[A\u001b[A\n",
            "\n",
            ":Processing Pairwise Features:     |████████▏            | [ 39%]   01:44  -> (01:05 left)\u001b[A\u001b[A\n",
            "\n",
            ":Processing Pairwise Features:     |█████████▏           | [ 43%]   02:29  -> (03:38 left)\u001b[A\u001b[A\n",
            "\n",
            ":Processing Pairwise Features:     |██████████           | [ 48%]   02:30  -> (02:23 left)\u001b[A\u001b[A\n",
            "\n",
            ":Processing Pairwise Features:     |██████████▉          | [ 52%]   02:30  -> (01:33 left)\u001b[A\u001b[A\n",
            "\n",
            ":Processing Pairwise Features:     |███████████▊         | [ 57%]   02:31  -> (01:01 left)\u001b[A\u001b[A\n",
            "\n",
            ":Processing Pairwise Features:     |████████████▊        | [ 61%]   03:15  -> (02:39 left)\u001b[A\u001b[A\n",
            "\n",
            ":Processing Pairwise Features:     |█████████████▋       | [ 65%]   04:00  -> (03:25 left)\u001b[A\u001b[A\n",
            "\n",
            ":Processing Pairwise Features:     |██████████████▌      | [ 70%]   04:44  -> (03:39 left)\u001b[A\u001b[A\n",
            "\n",
            ":Processing Pairwise Features:     |███████████████▌     | [ 74%]   05:32  -> (03:37 left)\u001b[A\u001b[A\n",
            "\n",
            ":Processing Pairwise Features:     |████████████████▍    | [ 78%]   06:16  -> (03:13 left)\u001b[A\u001b[A\n",
            "\n",
            ":Processing Pairwise Features:     |█████████████████▎   | [ 83%]   07:01  -> (02:41 left)\u001b[A\u001b[A\n",
            "\n",
            ":Processing Pairwise Features:     |██████████████████▎  | [ 87%]   07:46  -> (02:05 left)\u001b[A\u001b[A\n",
            "\n",
            ":Processing Pairwise Features:     |███████████████████▏ | [ 91%]   08:30  -> (01:24 left)\u001b[A\u001b[A\n",
            "\n",
            ":Processing Pairwise Features:     |████████████████████ | [ 96%]   09:14  -> (00:42 left)\u001b[A\u001b[A\n",
            "\n",
            ":Processing Pairwise Features:     |█████████████████████| [100%]   09:58  -> (00:00 left)\u001b[A\u001b[A\n",
            "\n",
            ":PAIRWISE DONE:                    |█████████████████████| [100%]   09:58  -> (00:00 left)\n"
          ],
          "name": "stderr"
        },
        {
          "output_type": "stream",
          "text": [
            "Creating Associations graph... DONE!\n",
            "Report CENSUSTESTDATA.html was generated! NOTEBOOK/COLAB USERS: no browser will pop up, the report is saved in your notebook/colab files.\n"
          ],
          "name": "stdout"
        }
      ]
    }
  ]
}